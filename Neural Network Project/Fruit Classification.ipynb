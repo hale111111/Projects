{
 "cells": [
  {
   "cell_type": "code",
   "execution_count": 1,
   "id": "a2e92edc",
   "metadata": {},
   "outputs": [
    {
     "name": "stdout",
     "output_type": "stream",
     "text": [
      "Requirement already satisfied: tensorflow in c:\\users\\hassa\\anaconda3\\lib\\site-packages (2.15.0)\n",
      "Requirement already satisfied: tensorflow-intel==2.15.0 in c:\\users\\hassa\\anaconda3\\lib\\site-packages (from tensorflow) (2.15.0)\n",
      "Requirement already satisfied: astunparse>=1.6.0 in c:\\users\\hassa\\anaconda3\\lib\\site-packages (from tensorflow-intel==2.15.0->tensorflow) (1.6.3)\n",
      "Requirement already satisfied: flatbuffers>=23.5.26 in c:\\users\\hassa\\anaconda3\\lib\\site-packages (from tensorflow-intel==2.15.0->tensorflow) (23.5.26)\n",
      "Requirement already satisfied: tensorflow-io-gcs-filesystem>=0.23.1 in c:\\users\\hassa\\anaconda3\\lib\\site-packages (from tensorflow-intel==2.15.0->tensorflow) (0.31.0)\n",
      "Requirement already satisfied: setuptools in c:\\users\\hassa\\anaconda3\\lib\\site-packages (from tensorflow-intel==2.15.0->tensorflow) (63.4.1)\n",
      "Requirement already satisfied: libclang>=13.0.0 in c:\\users\\hassa\\anaconda3\\lib\\site-packages (from tensorflow-intel==2.15.0->tensorflow) (16.0.6)\n",
      "Requirement already satisfied: ml-dtypes~=0.2.0 in c:\\users\\hassa\\anaconda3\\lib\\site-packages (from tensorflow-intel==2.15.0->tensorflow) (0.2.0)\n",
      "Requirement already satisfied: typing-extensions>=3.6.6 in c:\\users\\hassa\\anaconda3\\lib\\site-packages (from tensorflow-intel==2.15.0->tensorflow) (4.3.0)\n",
      "Requirement already satisfied: six>=1.12.0 in c:\\users\\hassa\\anaconda3\\lib\\site-packages (from tensorflow-intel==2.15.0->tensorflow) (1.16.0)\n",
      "Requirement already satisfied: protobuf!=4.21.0,!=4.21.1,!=4.21.2,!=4.21.3,!=4.21.4,!=4.21.5,<5.0.0dev,>=3.20.3 in c:\\users\\hassa\\anaconda3\\lib\\site-packages (from tensorflow-intel==2.15.0->tensorflow) (4.25.2)\n",
      "Requirement already satisfied: tensorboard<2.16,>=2.15 in c:\\users\\hassa\\anaconda3\\lib\\site-packages (from tensorflow-intel==2.15.0->tensorflow) (2.15.2)\n",
      "Requirement already satisfied: gast!=0.5.0,!=0.5.1,!=0.5.2,>=0.2.1 in c:\\users\\hassa\\anaconda3\\lib\\site-packages (from tensorflow-intel==2.15.0->tensorflow) (0.5.4)\n",
      "Requirement already satisfied: opt-einsum>=2.3.2 in c:\\users\\hassa\\anaconda3\\lib\\site-packages (from tensorflow-intel==2.15.0->tensorflow) (3.3.0)\n",
      "Requirement already satisfied: numpy<2.0.0,>=1.23.5 in c:\\users\\hassa\\anaconda3\\lib\\site-packages (from tensorflow-intel==2.15.0->tensorflow) (1.26.4)\n",
      "Requirement already satisfied: wrapt<1.15,>=1.11.0 in c:\\users\\hassa\\anaconda3\\lib\\site-packages (from tensorflow-intel==2.15.0->tensorflow) (1.14.1)\n",
      "Requirement already satisfied: packaging in c:\\users\\hassa\\anaconda3\\lib\\site-packages (from tensorflow-intel==2.15.0->tensorflow) (21.3)\n",
      "Requirement already satisfied: h5py>=2.9.0 in c:\\users\\hassa\\anaconda3\\lib\\site-packages (from tensorflow-intel==2.15.0->tensorflow) (3.7.0)\n",
      "Requirement already satisfied: absl-py>=1.0.0 in c:\\users\\hassa\\anaconda3\\lib\\site-packages (from tensorflow-intel==2.15.0->tensorflow) (2.1.0)\n",
      "Requirement already satisfied: termcolor>=1.1.0 in c:\\users\\hassa\\anaconda3\\lib\\site-packages (from tensorflow-intel==2.15.0->tensorflow) (2.4.0)\n",
      "Requirement already satisfied: tensorflow-estimator<2.16,>=2.15.0 in c:\\users\\hassa\\anaconda3\\lib\\site-packages (from tensorflow-intel==2.15.0->tensorflow) (2.15.0)\n",
      "Requirement already satisfied: google-pasta>=0.1.1 in c:\\users\\hassa\\anaconda3\\lib\\site-packages (from tensorflow-intel==2.15.0->tensorflow) (0.2.0)\n",
      "Requirement already satisfied: keras<2.16,>=2.15.0 in c:\\users\\hassa\\anaconda3\\lib\\site-packages (from tensorflow-intel==2.15.0->tensorflow) (2.15.0)\n",
      "Requirement already satisfied: grpcio<2.0,>=1.24.3 in c:\\users\\hassa\\anaconda3\\lib\\site-packages (from tensorflow-intel==2.15.0->tensorflow) (1.60.1)\n",
      "Requirement already satisfied: wheel<1.0,>=0.23.0 in c:\\users\\hassa\\anaconda3\\lib\\site-packages (from astunparse>=1.6.0->tensorflow-intel==2.15.0->tensorflow) (0.37.1)\n",
      "Requirement already satisfied: google-auth<3,>=1.6.3 in c:\\users\\hassa\\anaconda3\\lib\\site-packages (from tensorboard<2.16,>=2.15->tensorflow-intel==2.15.0->tensorflow) (2.27.0)\n",
      "Requirement already satisfied: requests<3,>=2.21.0 in c:\\users\\hassa\\anaconda3\\lib\\site-packages (from tensorboard<2.16,>=2.15->tensorflow-intel==2.15.0->tensorflow) (2.28.1)\n",
      "Requirement already satisfied: werkzeug>=1.0.1 in c:\\users\\hassa\\anaconda3\\lib\\site-packages (from tensorboard<2.16,>=2.15->tensorflow-intel==2.15.0->tensorflow) (2.0.3)\n",
      "Requirement already satisfied: markdown>=2.6.8 in c:\\users\\hassa\\anaconda3\\lib\\site-packages (from tensorboard<2.16,>=2.15->tensorflow-intel==2.15.0->tensorflow) (3.3.4)\n",
      "Requirement already satisfied: tensorboard-data-server<0.8.0,>=0.7.0 in c:\\users\\hassa\\anaconda3\\lib\\site-packages (from tensorboard<2.16,>=2.15->tensorflow-intel==2.15.0->tensorflow) (0.7.2)\n",
      "Requirement already satisfied: google-auth-oauthlib<2,>=0.5 in c:\\users\\hassa\\anaconda3\\lib\\site-packages (from tensorboard<2.16,>=2.15->tensorflow-intel==2.15.0->tensorflow) (1.2.0)\n",
      "Requirement already satisfied: pyparsing!=3.0.5,>=2.0.2 in c:\\users\\hassa\\anaconda3\\lib\\site-packages (from packaging->tensorflow-intel==2.15.0->tensorflow) (3.0.9)\n",
      "Requirement already satisfied: pyasn1-modules>=0.2.1 in c:\\users\\hassa\\anaconda3\\lib\\site-packages (from google-auth<3,>=1.6.3->tensorboard<2.16,>=2.15->tensorflow-intel==2.15.0->tensorflow) (0.2.8)\n",
      "Requirement already satisfied: rsa<5,>=3.1.4 in c:\\users\\hassa\\anaconda3\\lib\\site-packages (from google-auth<3,>=1.6.3->tensorboard<2.16,>=2.15->tensorflow-intel==2.15.0->tensorflow) (4.9)\n",
      "Requirement already satisfied: cachetools<6.0,>=2.0.0 in c:\\users\\hassa\\anaconda3\\lib\\site-packages (from google-auth<3,>=1.6.3->tensorboard<2.16,>=2.15->tensorflow-intel==2.15.0->tensorflow) (5.3.2)\n",
      "Requirement already satisfied: requests-oauthlib>=0.7.0 in c:\\users\\hassa\\anaconda3\\lib\\site-packages (from google-auth-oauthlib<2,>=0.5->tensorboard<2.16,>=2.15->tensorflow-intel==2.15.0->tensorflow) (1.3.1)\n",
      "Requirement already satisfied: charset-normalizer<3,>=2 in c:\\users\\hassa\\anaconda3\\lib\\site-packages (from requests<3,>=2.21.0->tensorboard<2.16,>=2.15->tensorflow-intel==2.15.0->tensorflow) (2.0.4)\n",
      "Requirement already satisfied: idna<4,>=2.5 in c:\\users\\hassa\\anaconda3\\lib\\site-packages (from requests<3,>=2.21.0->tensorboard<2.16,>=2.15->tensorflow-intel==2.15.0->tensorflow) (3.3)\n",
      "Requirement already satisfied: urllib3<1.27,>=1.21.1 in c:\\users\\hassa\\anaconda3\\lib\\site-packages (from requests<3,>=2.21.0->tensorboard<2.16,>=2.15->tensorflow-intel==2.15.0->tensorflow) (1.26.11)\n",
      "Requirement already satisfied: certifi>=2017.4.17 in c:\\users\\hassa\\anaconda3\\lib\\site-packages (from requests<3,>=2.21.0->tensorboard<2.16,>=2.15->tensorflow-intel==2.15.0->tensorflow) (2022.9.14)\n",
      "Requirement already satisfied: pyasn1<0.5.0,>=0.4.6 in c:\\users\\hassa\\anaconda3\\lib\\site-packages (from pyasn1-modules>=0.2.1->google-auth<3,>=1.6.3->tensorboard<2.16,>=2.15->tensorflow-intel==2.15.0->tensorflow) (0.4.8)\n",
      "Requirement already satisfied: oauthlib>=3.0.0 in c:\\users\\hassa\\anaconda3\\lib\\site-packages (from requests-oauthlib>=0.7.0->google-auth-oauthlib<2,>=0.5->tensorboard<2.16,>=2.15->tensorflow-intel==2.15.0->tensorflow) (3.2.2)\n"
     ]
    },
    {
     "name": "stderr",
     "output_type": "stream",
     "text": [
      "C:\\Users\\Hassa\\anaconda3\\lib\\site-packages\\scipy\\__init__.py:155: UserWarning: A NumPy version >=1.18.5 and <1.25.0 is required for this version of SciPy (detected version 1.26.4\n",
      "  warnings.warn(f\"A NumPy version >={np_minversion} and <{np_maxversion}\"\n"
     ]
    },
    {
     "name": "stdout",
     "output_type": "stream",
     "text": [
      "WARNING:tensorflow:From C:\\Users\\Hassa\\anaconda3\\lib\\site-packages\\keras\\src\\losses.py:2976: The name tf.losses.sparse_softmax_cross_entropy is deprecated. Please use tf.compat.v1.losses.sparse_softmax_cross_entropy instead.\n",
      "\n"
     ]
    }
   ],
   "source": [
    "!pip install tensorflow"
   ]
  },
  {
   "cell_type": "code",
   "execution_count": 1,
   "id": "45884870",
   "metadata": {},
   "outputs": [
    {
     "name": "stderr",
     "output_type": "stream",
     "text": [
      "C:\\Users\\Hassa\\anaconda3\\lib\\site-packages\\scipy\\__init__.py:155: UserWarning: A NumPy version >=1.18.5 and <1.25.0 is required for this version of SciPy (detected version 1.26.4\n",
      "  warnings.warn(f\"A NumPy version >={np_minversion} and <{np_maxversion}\"\n"
     ]
    },
    {
     "name": "stdout",
     "output_type": "stream",
     "text": [
      "WARNING:tensorflow:From C:\\Users\\Hassa\\anaconda3\\lib\\site-packages\\keras\\src\\losses.py:2976: The name tf.losses.sparse_softmax_cross_entropy is deprecated. Please use tf.compat.v1.losses.sparse_softmax_cross_entropy instead.\n",
      "\n"
     ]
    }
   ],
   "source": [
    "import numpy as np\n",
    "import pandas as pd\n",
    "import matplotlib.pyplot as plt\n",
    "import tensorflow as tf\n",
    "from tensorflow import keras\n",
    "from tensorflow.keras import layers\n",
    "from tensorflow.keras.models import Sequential"
   ]
  },
  {
   "cell_type": "code",
   "execution_count": 2,
   "id": "6a000950",
   "metadata": {},
   "outputs": [],
   "source": [
    "data_train_path = r\"C:\\Fruits\\train\"\n",
    "data_test_path = r\"C:\\Fruits\\test\"\n",
    "data_validation_path = r\"C:\\Fruits\\validation\""
   ]
  },
  {
   "cell_type": "code",
   "execution_count": 3,
   "id": "395fa948",
   "metadata": {},
   "outputs": [],
   "source": [
    "img_width = 180\n",
    "img_height = 180"
   ]
  },
  {
   "cell_type": "code",
   "execution_count": 4,
   "id": "9fbf9f8a",
   "metadata": {},
   "outputs": [
    {
     "name": "stdout",
     "output_type": "stream",
     "text": [
      "Found 288 files belonging to 9 classes.\n"
     ]
    }
   ],
   "source": [
    "data_train = tf.keras.utils.image_dataset_from_directory(\n",
    "data_train_path,\n",
    "shuffle = False,\n",
    "image_size = (img_width, img_height),\n",
    "batch_size = 34,\n",
    "validation_split = False)"
   ]
  },
  {
   "cell_type": "code",
   "execution_count": 5,
   "id": "6d1615ed",
   "metadata": {},
   "outputs": [
    {
     "data": {
      "text/plain": [
       "['Apple',\n",
       " 'Bananna',\n",
       " 'Cherry',\n",
       " 'Chickoo',\n",
       " 'Grapes',\n",
       " 'Kiwi',\n",
       " 'Mango',\n",
       " 'Orange',\n",
       " 'Strawberry']"
      ]
     },
     "execution_count": 5,
     "metadata": {},
     "output_type": "execute_result"
    }
   ],
   "source": [
    "data_train.class_names"
   ]
  },
  {
   "cell_type": "code",
   "execution_count": 6,
   "id": "a8c47b03",
   "metadata": {},
   "outputs": [
    {
     "name": "stdout",
     "output_type": "stream",
     "text": [
      "Found 36 files belonging to 9 classes.\n"
     ]
    }
   ],
   "source": [
    "data_validation = tf.keras.utils.image_dataset_from_directory(\n",
    "data_validation_path,\n",
    "shuffle = False,\n",
    "image_size = (img_width, img_height),\n",
    "batch_size = 34,\n",
    "validation_split = False)"
   ]
  },
  {
   "cell_type": "code",
   "execution_count": 7,
   "id": "7f2d0902",
   "metadata": {},
   "outputs": [
    {
     "name": "stdout",
     "output_type": "stream",
     "text": [
      "Found 36 files belonging to 9 classes.\n"
     ]
    }
   ],
   "source": [
    "data_test = tf.keras.utils.image_dataset_from_directory(\n",
    "data_test_path,\n",
    "shuffle = False,\n",
    "image_size = (img_width, img_height),\n",
    "batch_size = 34,\n",
    "validation_split = False)"
   ]
  },
  {
   "cell_type": "code",
   "execution_count": 8,
   "id": "ecddcd42",
   "metadata": {},
   "outputs": [
    {
     "data": {
      "text/plain": [
       "['Apple',\n",
       " 'Bananna',\n",
       " 'Cherry',\n",
       " 'Chickoo',\n",
       " 'Grapes',\n",
       " 'Kiwi',\n",
       " 'Mango',\n",
       " 'Orange',\n",
       " 'Strawberry']"
      ]
     },
     "execution_count": 8,
     "metadata": {},
     "output_type": "execute_result"
    }
   ],
   "source": [
    "data_cat = data_train.class_names\n",
    "data_cat"
   ]
  },
  {
   "cell_type": "code",
   "execution_count": 9,
   "id": "5d4505f9",
   "metadata": {},
   "outputs": [
    {
     "name": "stdout",
     "output_type": "stream",
     "text": [
      "WARNING:tensorflow:From C:\\Users\\Hassa\\anaconda3\\lib\\site-packages\\keras\\src\\backend.py:873: The name tf.get_default_graph is deprecated. Please use tf.compat.v1.get_default_graph instead.\n",
      "\n",
      "WARNING:tensorflow:From C:\\Users\\Hassa\\anaconda3\\lib\\site-packages\\keras\\src\\layers\\pooling\\max_pooling2d.py:161: The name tf.nn.max_pool is deprecated. Please use tf.nn.max_pool2d instead.\n",
      "\n"
     ]
    }
   ],
   "source": [
    "model = Sequential([\n",
    "    layers.Rescaling(1./255),\n",
    "    layers.Conv2D(16,3,padding ='same',activation='relu'),\n",
    "    layers.MaxPooling2D(),\n",
    "    layers.Conv2D(32,3,padding ='same',activation='relu'),\n",
    "    layers.MaxPooling2D(),\n",
    "    layers.Conv2D(64,3,padding ='same',activation='relu'),\n",
    "    layers.MaxPooling2D(),\n",
    "    layers.Flatten(),\n",
    "    layers.Dropout(0.2),\n",
    "    layers.Dense(128),\n",
    "    layers.Dense(len(data_cat))                  \n",
    "])"
   ]
  },
  {
   "cell_type": "code",
   "execution_count": 10,
   "id": "d05b0d9c",
   "metadata": {},
   "outputs": [
    {
     "name": "stdout",
     "output_type": "stream",
     "text": [
      "WARNING:tensorflow:From C:\\Users\\Hassa\\anaconda3\\lib\\site-packages\\keras\\src\\optimizers\\__init__.py:309: The name tf.train.Optimizer is deprecated. Please use tf.compat.v1.train.Optimizer instead.\n",
      "\n"
     ]
    }
   ],
   "source": [
    "model.compile(optimizer=\"adam\", loss=tf.keras.losses.SparseCategoricalCrossentropy(from_logits=True),metrics=['accuracy'])"
   ]
  },
  {
   "cell_type": "code",
   "execution_count": 11,
   "id": "f3bda95b",
   "metadata": {},
   "outputs": [
    {
     "name": "stdout",
     "output_type": "stream",
     "text": [
      "Epoch 1/25\n",
      "WARNING:tensorflow:From C:\\Users\\Hassa\\anaconda3\\lib\\site-packages\\keras\\src\\utils\\tf_utils.py:492: The name tf.ragged.RaggedTensorValue is deprecated. Please use tf.compat.v1.ragged.RaggedTensorValue instead.\n",
      "\n",
      "WARNING:tensorflow:From C:\\Users\\Hassa\\anaconda3\\lib\\site-packages\\keras\\src\\engine\\base_layer_utils.py:384: The name tf.executing_eagerly_outside_functions is deprecated. Please use tf.compat.v1.executing_eagerly_outside_functions instead.\n",
      "\n",
      "9/9 [==============================] - 5s 354ms/step - loss: 6.4284 - accuracy: 0.0035 - val_loss: 2.1952 - val_accuracy: 0.1111\n",
      "Epoch 2/25\n",
      "9/9 [==============================] - 3s 339ms/step - loss: 2.2136 - accuracy: 0.1146 - val_loss: 2.1933 - val_accuracy: 0.2222\n",
      "Epoch 3/25\n",
      "9/9 [==============================] - 3s 335ms/step - loss: 2.1986 - accuracy: 0.0972 - val_loss: 2.1843 - val_accuracy: 0.2778\n",
      "Epoch 4/25\n",
      "9/9 [==============================] - 3s 345ms/step - loss: 2.1654 - accuracy: 0.2188 - val_loss: 2.1407 - val_accuracy: 0.1111\n",
      "Epoch 5/25\n",
      "9/9 [==============================] - 3s 354ms/step - loss: 2.1168 - accuracy: 0.2188 - val_loss: 2.1231 - val_accuracy: 0.1667\n",
      "Epoch 6/25\n",
      "9/9 [==============================] - 3s 329ms/step - loss: 2.0478 - accuracy: 0.2153 - val_loss: 2.0916 - val_accuracy: 0.1944\n",
      "Epoch 7/25\n",
      "9/9 [==============================] - 3s 350ms/step - loss: 1.9364 - accuracy: 0.2812 - val_loss: 2.0649 - val_accuracy: 0.2778\n",
      "Epoch 8/25\n",
      "9/9 [==============================] - 3s 335ms/step - loss: 1.7985 - accuracy: 0.3958 - val_loss: 2.0190 - val_accuracy: 0.2778\n",
      "Epoch 9/25\n",
      "9/9 [==============================] - 3s 327ms/step - loss: 1.6973 - accuracy: 0.3958 - val_loss: 1.9724 - val_accuracy: 0.2222\n",
      "Epoch 10/25\n",
      "9/9 [==============================] - 3s 333ms/step - loss: 1.3893 - accuracy: 0.5174 - val_loss: 1.8414 - val_accuracy: 0.3056\n",
      "Epoch 11/25\n",
      "9/9 [==============================] - 3s 334ms/step - loss: 1.3759 - accuracy: 0.5451 - val_loss: 2.0662 - val_accuracy: 0.3333\n",
      "Epoch 12/25\n",
      "9/9 [==============================] - 4s 363ms/step - loss: 1.1414 - accuracy: 0.6528 - val_loss: 1.9199 - val_accuracy: 0.3611\n",
      "Epoch 13/25\n",
      "9/9 [==============================] - 3s 327ms/step - loss: 0.9539 - accuracy: 0.7500 - val_loss: 2.1071 - val_accuracy: 0.4722\n",
      "Epoch 14/25\n",
      "9/9 [==============================] - 3s 334ms/step - loss: 0.8873 - accuracy: 0.6875 - val_loss: 1.8095 - val_accuracy: 0.3889\n",
      "Epoch 15/25\n",
      "9/9 [==============================] - 3s 334ms/step - loss: 0.6748 - accuracy: 0.8160 - val_loss: 1.9306 - val_accuracy: 0.3611\n",
      "Epoch 16/25\n",
      "9/9 [==============================] - 3s 335ms/step - loss: 0.5014 - accuracy: 0.8299 - val_loss: 2.5981 - val_accuracy: 0.3889\n",
      "Epoch 17/25\n",
      "9/9 [==============================] - 3s 343ms/step - loss: 0.3178 - accuracy: 0.8854 - val_loss: 2.7659 - val_accuracy: 0.4444\n",
      "Epoch 18/25\n",
      "9/9 [==============================] - 3s 335ms/step - loss: 0.1611 - accuracy: 0.9583 - val_loss: 2.6505 - val_accuracy: 0.4722\n",
      "Epoch 19/25\n",
      "9/9 [==============================] - 3s 328ms/step - loss: 0.1123 - accuracy: 0.9757 - val_loss: 3.3699 - val_accuracy: 0.4167\n",
      "Epoch 20/25\n",
      "9/9 [==============================] - 3s 333ms/step - loss: 0.1265 - accuracy: 0.9722 - val_loss: 3.3271 - val_accuracy: 0.3889\n",
      "Epoch 21/25\n",
      "9/9 [==============================] - 3s 332ms/step - loss: 0.2380 - accuracy: 0.9479 - val_loss: 2.9587 - val_accuracy: 0.4444\n",
      "Epoch 22/25\n",
      "9/9 [==============================] - 3s 331ms/step - loss: 0.5340 - accuracy: 0.9201 - val_loss: 2.5824 - val_accuracy: 0.3889\n",
      "Epoch 23/25\n",
      "9/9 [==============================] - 3s 337ms/step - loss: 0.2793 - accuracy: 0.9583 - val_loss: 2.7941 - val_accuracy: 0.4167\n",
      "Epoch 24/25\n",
      "9/9 [==============================] - 3s 341ms/step - loss: 0.1159 - accuracy: 0.9931 - val_loss: 3.8770 - val_accuracy: 0.3889\n",
      "Epoch 25/25\n",
      "9/9 [==============================] - 3s 333ms/step - loss: 0.0824 - accuracy: 0.9896 - val_loss: 3.2167 - val_accuracy: 0.5000\n"
     ]
    }
   ],
   "source": [
    "history = model.fit(data_train, validation_data = data_validation, epochs = 25)"
   ]
  },
  {
   "cell_type": "code",
   "execution_count": 12,
   "id": "0fd7e697",
   "metadata": {},
   "outputs": [
    {
     "data": {
      "image/png": "[encoded data removed]",
      "text/plain": [
       "<Figure size 640x480 with 1 Axes>"
      ]
     },
     "metadata": {},
     "output_type": "display_data"
    }
   ],
   "source": [
    "fig = plt.figure()\n",
    "plt.plot(history.history['loss'], color='teal', label='accuracy')\n",
    "plt.plot(history.history[\"val_loss\"], color='orange', label='val_accuracy')\n",
    "fig.suptitle=('Loss')\n",
    "plt.show()"
   ]
  },
  {
   "cell_type": "code",
   "execution_count": 13,
   "id": "f812360d",
   "metadata": {},
   "outputs": [
    {
     "data": {
      "image/png": "[encoded data removed]",
      "text/plain": [
       "<Figure size 640x480 with 1 Axes>"
      ]
     },
     "metadata": {},
     "output_type": "display_data"
    }
   ],
   "source": [
    "fig = plt.figure()\n",
    "plt.plot(history.history['accuracy'], color='teal', label='accuracy')\n",
    "plt.plot(history.history[\"val_accuracy\"], color='orange', label='val_accuracy')\n",
    "fig.suptitle('Accuracy')\n",
    "plt.show()\n"
   ]
  },
  {
   "cell_type": "code",
   "execution_count": 12,
   "id": "6209a7da",
   "metadata": {},
   "outputs": [
    {
     "name": "stdout",
     "output_type": "stream",
     "text": [
      "Requirement already satisfied: opencv-python in c:\\users\\hassa\\anaconda3\\lib\\site-packages (4.9.0.80)\n",
      "Requirement already satisfied: numpy>=1.17.0 in c:\\users\\hassa\\anaconda3\\lib\\site-packages (from opencv-python) (1.26.4)\n"
     ]
    }
   ],
   "source": [
    "!pip install opencv-python\n"
   ]
  },
  {
   "cell_type": "code",
   "execution_count": 14,
   "id": "919698ae",
   "metadata": {},
   "outputs": [],
   "source": [
    "import os\n",
    "import cv2"
   ]
  },
  {
   "cell_type": "code",
   "execution_count": 24,
   "id": "187c47ea",
   "metadata": {},
   "outputs": [
    {
     "name": "stdout",
     "output_type": "stream",
     "text": [
      "Image Path: C:\\Fruits\\test\\Grapes\\Image_37.jpg\n",
      "1/1 [==============================] - 0s 24ms/step\n",
      "Veg/Fruit in image is Grapes with accuracy of 98.00%\n",
      "\n",
      "Image Path: C:\\Fruits\\test\\Grapes\\Image_38.jpg\n",
      "1/1 [==============================] - 0s 32ms/step\n",
      "Veg/Fruit in image is Cherry with accuracy of 99.24%\n",
      "\n",
      "Image Path: C:\\Fruits\\test\\Grapes\\Image_39.jpg\n",
      "1/1 [==============================] - 0s 31ms/step\n",
      "Veg/Fruit in image is Grapes with accuracy of 98.71%\n",
      "\n",
      "Image Path: C:\\Fruits\\test\\Grapes\\Image_40.jpg\n",
      "1/1 [==============================] - 0s 30ms/step\n",
      "Veg/Fruit in image is Mango with accuracy of 69.85%\n",
      "\n"
     ]
    }
   ],
   "source": [
    "data_test_path = r\"C:\\Fruits\\test\\Grapes\"\n",
    "\n",
    "def preprocess_image(img_path):\n",
    "    print(\"Image Path:\", img_path)\n",
    "    # Read image using OpenCV\n",
    "    img = cv2.imread(img_path)\n",
    "    if img is None:\n",
    "        print(\"Failed to load image\")\n",
    "        return None\n",
    "    # Resize image to match input shape of the model\n",
    "    img = cv2.resize(img, (180, 180))  # Update desired_width and desired_height to match your model's input shape\n",
    "    # Normalize pixel values\n",
    "    img = img / 255.0  # Assuming the model used rescaling by 1./255 during training\n",
    "    # Expand dimensions to match the expected input shape (batch size, width, height, channels)\n",
    "    img = np.expand_dims(img, axis=0)\n",
    "    return img\n",
    "\n",
    "\n",
    "for filename in os.listdir(data_test_path):\n",
    "        # Construct the full path of the image\n",
    "        img_path = os.path.join(data_test_path, filename)\n",
    "        # Preprocess the image\n",
    "        img = preprocess_image(img_path)\n",
    "        img = img[0]\n",
    "        img_arr = tf.keras.utils.array_to_img(img)\n",
    "        img_bat = tf.expand_dims(img_arr,0)\n",
    "        \n",
    "        prediction = model.predict(img_bat)\n",
    "        \n",
    "        score = tf.nn.softmax(prediction)\n",
    "        \n",
    "        print(\"Veg/Fruit in image is {} with accuracy of {:0.2f}%\\n\".format(data_cat[np.argmax(score)],np.max(score*100)))\n",
    "                    # Get the raw predictions (before applying softmax)\n"
   ]
  }
 ],
 "metadata": {
  "kernelspec": {
   "display_name": "Python 3 (ipykernel)",
   "language": "python",
   "name": "python3"
  },
  "language_info": {
   "codemirror_mode": {
    "name": "ipython",
    "version": 3
   },
   "file_extension": ".py",
   "mimetype": "text/x-python",
   "name": "python",
   "nbconvert_exporter": "python",
   "pygments_lexer": "ipython3",
   "version": "3.9.13"
  }
 },
 "nbformat": 4,
 "nbformat_minor": 5
}
